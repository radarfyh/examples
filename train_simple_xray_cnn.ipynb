{
  "metadata": {
    "language_info": {
      "mimetype": "text/x-python",
      "name": "python",
      "version": "3.6.4",
      "codemirror_mode": {
        "name": "ipython",
        "version": 3
      },
      "pygments_lexer": "ipython3",
      "nbconvert_exporter": "python",
      "file_extension": ".py"
    },
    "kernelspec": {
      "name": "python3",
      "language": "python",
      "display_name": "Python 3"
    },
    "colab": {
      "name": "train-simple-xray-cnn.ipynb",
      "provenance": [],
      "include_colab_link": true
    }
  },
  "nbformat_minor": 0,
  "nbformat": 4,
  "cells": [
    {
      "cell_type": "markdown",
      "metadata": {
        "id": "view-in-github",
        "colab_type": "text"
      },
      "source": [
        "<a href=\"https://colab.research.google.com/github/radarfyh/examples/blob/master/train_simple_xray_cnn.ipynb\" target=\"_parent\"><img src=\"https://colab.research.google.com/assets/colab-badge.svg\" alt=\"Open In Colab\"/></a>"
      ]
    },
    {
      "cell_type": "code",
      "source": [
        "import os\n",
        "import cv2\n",
        "import random\n",
        "import numpy as np\n",
        "import albumentations as A\n",
        "from copy import deepcopy\n",
        "from skimage.filters import gaussian\n",
        "\n",
        "def image_copy_paste(img, paste_img, alpha, blend=True, sigma=1):\n",
        "    if alpha is not None:\n",
        "        if blend:\n",
        "            alpha = gaussian(alpha, sigma=sigma, preserve_range=True)\n",
        "\n",
        "        img_dtype = img.dtype\n",
        "        alpha = alpha[..., None]\n",
        "        img = paste_img * alpha + img * (1 - alpha)\n",
        "        img = img.astype(img_dtype)\n",
        "\n",
        "    return img\n",
        "\n",
        "def mask_copy_paste(mask, paste_mask, alpha):\n",
        "    raise NotImplementedError\n",
        "\n",
        "def masks_copy_paste(masks, paste_masks, alpha):\n",
        "    if alpha is not None:\n",
        "        #eliminate pixels that will be pasted over\n",
        "        masks = [\n",
        "            np.logical_and(mask, np.logical_xor(mask, alpha)).astype(np.uint8) for mask in masks\n",
        "        ]\n",
        "        masks.extend(paste_masks)\n",
        "\n",
        "    return masks\n",
        "\n",
        "def extract_bboxes(masks):\n",
        "    bboxes = []\n",
        "    # allow for case of no masks\n",
        "    if len(masks) == 0:\n",
        "        return bboxes\n",
        "    \n",
        "    h, w = masks[0].shape\n",
        "    for mask in masks:\n",
        "        yindices = np.where(np.any(mask, axis=0))[0]\n",
        "        xindices = np.where(np.any(mask, axis=1))[0]\n",
        "        if yindices.shape[0]:\n",
        "            y1, y2 = yindices[[0, -1]]\n",
        "            x1, x2 = xindices[[0, -1]]\n",
        "            y2 += 1\n",
        "            x2 += 1\n",
        "            y1 /= w\n",
        "            y2 /= w\n",
        "            x1 /= h\n",
        "            x2 /= h\n",
        "        else:\n",
        "            y1, x1, y2, x2 = 0, 0, 0, 0\n",
        "\n",
        "        bboxes.append((y1, x1, y2, x2))\n",
        "\n",
        "    return bboxes\n",
        "\n",
        "def bboxes_copy_paste(bboxes, paste_bboxes, masks, paste_masks, alpha, key):\n",
        "    if key == 'paste_bboxes':\n",
        "        return bboxes\n",
        "    elif paste_bboxes is not None:\n",
        "        masks = masks_copy_paste(masks, paste_masks=[], alpha=alpha)\n",
        "        adjusted_bboxes = extract_bboxes(masks)\n",
        "\n",
        "        #only keep the bounding boxes for objects listed in bboxes\n",
        "        mask_indices = [box[-1] for box in bboxes]\n",
        "        adjusted_bboxes = [adjusted_bboxes[idx] for idx in mask_indices]\n",
        "        #append bbox tails (classes, etc.)\n",
        "        adjusted_bboxes = [bbox + tail[4:] for bbox, tail in zip(adjusted_bboxes, bboxes)]\n",
        "\n",
        "        #adjust paste_bboxes mask indices to avoid overlap\n",
        "        if len(masks) > 0:\n",
        "            max_mask_index = len(masks)\n",
        "        else:\n",
        "            max_mask_index = 0\n",
        "\n",
        "        paste_mask_indices = [max_mask_index + ix for ix in range(len(paste_bboxes))]\n",
        "        paste_bboxes = [pbox[:-1] + (pmi,) for pbox, pmi in zip(paste_bboxes, paste_mask_indices)]\n",
        "        adjusted_paste_bboxes = extract_bboxes(paste_masks)\n",
        "        adjusted_paste_bboxes = [apbox + tail[4:] for apbox, tail in zip(adjusted_paste_bboxes, paste_bboxes)]\n",
        "\n",
        "        bboxes = adjusted_bboxes + adjusted_paste_bboxes\n",
        "\n",
        "    return bboxes\n",
        "\n",
        "def keypoints_copy_paste(keypoints, paste_keypoints, alpha):\n",
        "    #remove occluded keypoints\n",
        "    if alpha is not None:\n",
        "        visible_keypoints = []\n",
        "        for kp in keypoints:\n",
        "            x, y = kp[:2]\n",
        "            tail = kp[2:]\n",
        "            if alpha[int(y), int(x)] == 0:\n",
        "                visible_keypoints.append(kp)\n",
        "\n",
        "        keypoints = visible_keypoints + paste_keypoints\n",
        "\n",
        "    return keypoints\n",
        "\n",
        "class CopyPaste(A.DualTransform):\n",
        "    def __init__(\n",
        "        self,\n",
        "        blend=True,\n",
        "        sigma=3,\n",
        "        pct_objects_paste=0.1,\n",
        "        max_paste_objects=None,\n",
        "        p=0.5,\n",
        "        always_apply=False\n",
        "    ):\n",
        "        super(CopyPaste, self).__init__(always_apply, p)\n",
        "        self.blend = blend\n",
        "        self.sigma = sigma\n",
        "        self.pct_objects_paste = pct_objects_paste\n",
        "        self.max_paste_objects = max_paste_objects\n",
        "        self.p = p\n",
        "        self.always_apply = always_apply\n",
        "\n",
        "    @staticmethod\n",
        "    def get_class_fullname():\n",
        "        return 'copypaste.CopyPaste'\n",
        "\n",
        "    @property\n",
        "    def targets_as_params(self):\n",
        "        return [\n",
        "            \"masks\",\n",
        "            \"paste_image\",\n",
        "            #\"paste_mask\",\n",
        "            \"paste_masks\",\n",
        "            \"paste_bboxes\",\n",
        "            #\"paste_keypoints\"\n",
        "        ]\n",
        "\n",
        "    def get_params_dependent_on_targets(self, params):\n",
        "        image = params[\"paste_image\"]\n",
        "        masks = None\n",
        "        if \"paste_mask\" in params:\n",
        "            #handle a single segmentation mask with\n",
        "            #multiple targets\n",
        "            #nothing for now.\n",
        "            raise NotImplementedError\n",
        "        elif \"paste_masks\" in params:\n",
        "            masks = params[\"paste_masks\"]\n",
        "\n",
        "        assert(masks is not None), \"Masks cannot be None!\"\n",
        "\n",
        "        bboxes = params.get(\"paste_bboxes\", None)\n",
        "        keypoints = params.get(\"paste_keypoints\", None)\n",
        "\n",
        "        #number of objects: n_bboxes <= n_masks because of automatic removal\n",
        "        n_objects = len(bboxes) if bboxes is not None else len(masks)\n",
        "\n",
        "        #paste all objects if no restrictions\n",
        "        n_select = n_objects\n",
        "        if self.pct_objects_paste:\n",
        "            n_select = int(n_select * self.pct_objects_paste)\n",
        "        if self.max_paste_objects:\n",
        "            n_select = min(n_select, self.max_paste_objects)\n",
        "\n",
        "        #no objects condition\n",
        "        if n_select == 0:\n",
        "            return {\n",
        "                \"param_masks\": params[\"masks\"],\n",
        "                \"paste_img\": None,\n",
        "                \"alpha\": None,\n",
        "                \"paste_mask\": None,\n",
        "                \"paste_masks\": None,\n",
        "                \"paste_bboxes\": None,\n",
        "                \"paste_keypoints\": None,\n",
        "                \"objs_to_paste\": []\n",
        "            }\n",
        "\n",
        "        #select objects\n",
        "        objs_to_paste = np.random.choice(\n",
        "            range(0, n_objects), size=n_select, replace=False\n",
        "        )\n",
        "\n",
        "        #take the bboxes\n",
        "        if bboxes:\n",
        "            bboxes = [bboxes[idx] for idx in objs_to_paste]\n",
        "            #the last label in bboxes is the index of corresponding mask\n",
        "            mask_indices = [bbox[-1] for bbox in bboxes]\n",
        "\n",
        "        #create alpha by combining all the objects into\n",
        "        #a single binary mask\n",
        "        masks = [masks[idx] for idx in mask_indices]\n",
        "\n",
        "        alpha = masks[0] > 0\n",
        "        for mask in masks[1:]:\n",
        "            alpha += mask > 0\n",
        "\n",
        "        return {\n",
        "            \"param_masks\": params[\"masks\"],\n",
        "            \"paste_img\": image,\n",
        "            \"alpha\": alpha,\n",
        "            \"paste_mask\": None,\n",
        "            \"paste_masks\": masks,\n",
        "            \"paste_bboxes\": bboxes,\n",
        "            \"paste_keypoints\": keypoints\n",
        "        }\n",
        "\n",
        "    @property\n",
        "    def ignore_kwargs(self):\n",
        "        return [\n",
        "            \"paste_image\",\n",
        "            \"paste_mask\",\n",
        "            \"paste_masks\"\n",
        "        ]\n",
        "\n",
        "    def apply_with_params(self, params, force_apply=False, **kwargs):  # skipcq: PYL-W0613\n",
        "        if params is None:\n",
        "            return kwargs\n",
        "        params = self.update_params(params, **kwargs)\n",
        "        res = {}\n",
        "        for key, arg in kwargs.items():\n",
        "            if arg is not None and key not in self.ignore_kwargs:\n",
        "                target_function = self._get_target_function(key)\n",
        "                target_dependencies = {k: kwargs[k] for k in self.target_dependence.get(key, [])}\n",
        "                target_dependencies['key'] = key\n",
        "                res[key] = target_function(arg, **dict(params, **target_dependencies))\n",
        "            else:\n",
        "                res[key] = None\n",
        "        return res\n",
        "\n",
        "    def apply(self, img, paste_img, alpha, **params):\n",
        "        return image_copy_paste(\n",
        "            img, paste_img, alpha, blend=self.blend, sigma=self.sigma\n",
        "        )\n",
        "\n",
        "    def apply_to_mask(self, mask, paste_mask, alpha, **params):\n",
        "        return mask_copy_paste(mask, paste_mask, alpha)\n",
        "\n",
        "    def apply_to_masks(self, masks, paste_masks, alpha, **params):\n",
        "        return masks_copy_paste(masks, paste_masks, alpha)\n",
        "\n",
        "    def apply_to_bboxes(self, bboxes, paste_bboxes, param_masks, paste_masks, alpha, key, **params):\n",
        "        return bboxes_copy_paste(bboxes, paste_bboxes, param_masks, paste_masks, alpha, key)\n",
        "\n",
        "    def apply_to_keypoints(self, keypoints, paste_keypoints, alpha, **params):\n",
        "        raise NotImplementedError\n",
        "        #return keypoints_copy_paste(keypoints, paste_keypoints, alpha)\n",
        "\n",
        "    def get_transform_init_args_names(self):\n",
        "        return (\n",
        "            \"blend\",\n",
        "            \"sigma\",\n",
        "            \"pct_objects_paste\",\n",
        "            \"max_paste_objects\"\n",
        "        )\n",
        "\n",
        "def copy_paste_class(dataset_class):\n",
        "    def _split_transforms(self):\n",
        "        split_index = None\n",
        "        for ix, tf in enumerate(list(self.transforms.transforms)):\n",
        "            if tf.get_class_fullname() == 'copypaste.CopyPaste':\n",
        "                split_index = ix\n",
        "\n",
        "        if split_index is not None:\n",
        "            tfs = list(self.transforms.transforms)\n",
        "            pre_copy = tfs[:split_index]\n",
        "            copy_paste = tfs[split_index]\n",
        "            post_copy = tfs[split_index+1:]\n",
        "\n",
        "            #replicate the other augmentation parameters\n",
        "            bbox_params = None\n",
        "            keypoint_params = None\n",
        "            paste_additional_targets = {}\n",
        "            if 'bboxes' in self.transforms.processors:\n",
        "                bbox_params = self.transforms.processors['bboxes'].params\n",
        "                paste_additional_targets['paste_bboxes'] = 'bboxes'\n",
        "                if self.transforms.processors['bboxes'].params.label_fields:\n",
        "                    msg = \"Copy-paste does not support bbox label_fields! \"\n",
        "                    msg += \"Expected bbox format is (a, b, c, d, label_field)\"\n",
        "                    raise Exception(msg)\n",
        "            if 'keypoints' in self.transforms.processors:\n",
        "                keypoint_params = self.transforms.processors['keypoints'].params\n",
        "                paste_additional_targets['paste_keypoints'] = 'keypoints'\n",
        "                if keypoint_params.label_fields:\n",
        "                    raise Exception('Copy-paste does not support keypoint label fields!')\n",
        "\n",
        "            if self.transforms.additional_targets:\n",
        "                raise Exception('Copy-paste does not support additional_targets!')\n",
        "\n",
        "            #recreate transforms\n",
        "            self.transforms = A.Compose(pre_copy, bbox_params, keypoint_params, additional_targets=None)\n",
        "            self.post_transforms = A.Compose(post_copy, bbox_params, keypoint_params, additional_targets=None)\n",
        "            self.copy_paste = A.Compose(\n",
        "                [copy_paste], bbox_params, keypoint_params, additional_targets=paste_additional_targets\n",
        "            )\n",
        "        else:\n",
        "            self.copy_paste = None\n",
        "            self.post_transforms = None\n",
        "\n",
        "    def __getitem__(self, idx):\n",
        "        #split transforms if it hasn't been done already\n",
        "        if not hasattr(self, 'post_transforms'):\n",
        "            self._split_transforms()\n",
        "\n",
        "        img_data = self.load_example(idx)\n",
        "        if self.copy_paste is not None:\n",
        "            paste_idx = random.randint(0, self.__len__() - 1)\n",
        "            paste_img_data = self.load_example(paste_idx)\n",
        "            for k in list(paste_img_data.keys()):\n",
        "                paste_img_data['paste_' + k] = paste_img_data[k]\n",
        "                del paste_img_data[k]\n",
        "\n",
        "            img_data = self.copy_paste(**img_data, **paste_img_data)\n",
        "            img_data = self.post_transforms(**img_data)\n",
        "            img_data['paste_index'] = paste_idx\n",
        "\n",
        "        return img_data\n",
        "\n",
        "    setattr(dataset_class, '_split_transforms', _split_transforms)\n",
        "    setattr(dataset_class, '__getitem__', __getitem__)\n",
        "\n",
        "    return dataset_class"
      ],
      "metadata": {
        "id": "D-MQZloJ26dH"
      },
      "execution_count": null,
      "outputs": []
    },
    {
      "cell_type": "markdown",
      "source": [
        "# Goal\n",
        "The goal is to use a simple model to classify x-ray images in Keras, the notebook how to use the ```flow_from_dataframe``` to deal with messier datasets"
      ],
      "metadata": {
        "_cell_guid": "19ff9d0b-d32d-4325-a19f-2ccbfa7d2dff",
        "_uuid": "9206c5863724e1af01281071e0f0ee5109ef431b",
        "id": "RA92E5umsAg6"
      }
    },
    {
      "cell_type": "code",
      "source": [
        "import numpy as np # linear algebra\n",
        "import pandas as pd # data processing, CSV file I/O (e.g. pd.read_csv)\n",
        "import os\n",
        "from glob import glob\n",
        "%matplotlib inline\n",
        "import matplotlib.pyplot as plt"
      ],
      "metadata": {
        "_cell_guid": "f42f6560-edf0-4efb-85a6-6e945e50895b",
        "_uuid": "3300a1edbf2e8122d88093998eb503a6fab8a719",
        "execution": {
          "iopub.status.busy": "2021-12-13T21:20:37.153344Z",
          "iopub.execute_input": "2021-12-13T21:20:37.153971Z",
          "iopub.status.idle": "2021-12-13T21:20:37.176886Z",
          "shell.execute_reply.started": "2021-12-13T21:20:37.153895Z",
          "shell.execute_reply": "2021-12-13T21:20:37.176127Z"
        },
        "trusted": true,
        "id": "4HOrOyNisAg7"
      },
      "execution_count": null,
      "outputs": []
    },
    {
      "cell_type": "code",
      "source": [
        "!pip install kaggle\n",
        "!mkdir input\n",
        "!mkdir ~/.kaggle\n",
        "!cp /kaggle.json ~/.kaggle/kaggle.json\n",
        "!kaggle datasets download -d nih-chest-xrays/data\n",
        "!unzip /content/data.zip\n",
        "!rm -f /content/data.zip\n",
        "all_xray_df = pd.read_csv('/content/Data_Entry_2017.csv')\n",
        "all_image_paths = {os.path.basename(x): x for x in \n",
        "                   glob(os.path.join('..', 'input', 'images*', '*', '*.png'))}\n",
        "print('Scans found:', len(all_image_paths), ', Total Headers', all_xray_df.shape[0])\n",
        "all_xray_df['path'] = all_xray_df['Image Index'].map(all_image_paths.get)\n",
        "all_xray_df['Patient Age'] = all_xray_df['Patient Age'].map(lambda x: int(x[:-1]))\n",
        "all_xray_df.sample(3)"
      ],
      "metadata": {
        "_cell_guid": "9a342cdc-0823-490d-9a3a-a53fb7c33727",
        "_uuid": "fe804e7c294e2d290e27b037bf1ba56177abab70",
        "execution": {
          "iopub.status.busy": "2021-12-13T21:21:47.468495Z",
          "iopub.execute_input": "2021-12-13T21:21:47.468818Z",
          "iopub.status.idle": "2021-12-13T21:21:48.441241Z",
          "shell.execute_reply.started": "2021-12-13T21:21:47.468761Z",
          "shell.execute_reply": "2021-12-13T21:21:48.440150Z"
        },
        "trusted": true,
        "colab": {
          "base_uri": "https://localhost:8080/",
          "height": 386
        },
        "id": "MSPTAXK0sAg8",
        "outputId": "7404b9f0-b50d-48d6-8ab2-2d8509f77632"
      },
      "execution_count": null,
      "outputs": [
        {
          "output_type": "stream",
          "name": "stdout",
          "text": [
            "Requirement already satisfied: kaggle in /usr/local/lib/python3.7/dist-packages (1.5.12)\n",
            "Requirement already satisfied: requests in /usr/local/lib/python3.7/dist-packages (from kaggle) (2.23.0)\n",
            "Requirement already satisfied: urllib3 in /usr/local/lib/python3.7/dist-packages (from kaggle) (1.24.3)\n",
            "Requirement already satisfied: python-slugify in /usr/local/lib/python3.7/dist-packages (from kaggle) (5.0.2)\n",
            "Requirement already satisfied: python-dateutil in /usr/local/lib/python3.7/dist-packages (from kaggle) (2.8.2)\n",
            "Requirement already satisfied: tqdm in /usr/local/lib/python3.7/dist-packages (from kaggle) (4.62.3)\n",
            "Requirement already satisfied: certifi in /usr/local/lib/python3.7/dist-packages (from kaggle) (2021.10.8)\n",
            "Requirement already satisfied: six>=1.10 in /usr/local/lib/python3.7/dist-packages (from kaggle) (1.15.0)\n",
            "Requirement already satisfied: text-unidecode>=1.3 in /usr/local/lib/python3.7/dist-packages (from python-slugify->kaggle) (1.3)\n",
            "Requirement already satisfied: chardet<4,>=3.0.2 in /usr/local/lib/python3.7/dist-packages (from requests->kaggle) (3.0.4)\n",
            "Requirement already satisfied: idna<3,>=2.5 in /usr/local/lib/python3.7/dist-packages (from requests->kaggle) (2.10)\n",
            "mkdir: cannot create directory ‘input’: File exists\n",
            "mkdir: cannot create directory ‘/root/.kaggle’: File exists\n",
            "Scans found: 0 , Total Headers 112120\n"
          ]
        },
        {
          "output_type": "execute_result",
          "data": {
            "text/html": [
              "<div>\n",
              "<style scoped>\n",
              "    .dataframe tbody tr th:only-of-type {\n",
              "        vertical-align: middle;\n",
              "    }\n",
              "\n",
              "    .dataframe tbody tr th {\n",
              "        vertical-align: top;\n",
              "    }\n",
              "\n",
              "    .dataframe thead th {\n",
              "        text-align: right;\n",
              "    }\n",
              "</style>\n",
              "<table border=\"1\" class=\"dataframe\">\n",
              "  <thead>\n",
              "    <tr style=\"text-align: right;\">\n",
              "      <th></th>\n",
              "      <th>Image Index</th>\n",
              "      <th>Finding Labels</th>\n",
              "      <th>Follow-up #</th>\n",
              "      <th>Patient ID</th>\n",
              "      <th>Patient Age</th>\n",
              "      <th>Patient Gender</th>\n",
              "      <th>View Position</th>\n",
              "      <th>OriginalImage[Width</th>\n",
              "      <th>Height]</th>\n",
              "      <th>OriginalImagePixelSpacing[x</th>\n",
              "      <th>y]</th>\n",
              "      <th>Unnamed: 11</th>\n",
              "      <th>path</th>\n",
              "    </tr>\n",
              "  </thead>\n",
              "  <tbody>\n",
              "    <tr>\n",
              "      <th>44431</th>\n",
              "      <td>00011428_007.png</td>\n",
              "      <td>No Finding</td>\n",
              "      <td>7</td>\n",
              "      <td>11428</td>\n",
              "      <td>59</td>\n",
              "      <td>F</td>\n",
              "      <td>AP</td>\n",
              "      <td>2936</td>\n",
              "      <td>2544</td>\n",
              "      <td>0.139</td>\n",
              "      <td>0.139</td>\n",
              "      <td>NaN</td>\n",
              "      <td>None</td>\n",
              "    </tr>\n",
              "    <tr>\n",
              "      <th>98791</th>\n",
              "      <td>00026118_000.png</td>\n",
              "      <td>No Finding</td>\n",
              "      <td>0</td>\n",
              "      <td>26118</td>\n",
              "      <td>33</td>\n",
              "      <td>M</td>\n",
              "      <td>PA</td>\n",
              "      <td>2848</td>\n",
              "      <td>2936</td>\n",
              "      <td>0.143</td>\n",
              "      <td>0.143</td>\n",
              "      <td>NaN</td>\n",
              "      <td>None</td>\n",
              "    </tr>\n",
              "    <tr>\n",
              "      <th>95678</th>\n",
              "      <td>00025166_001.png</td>\n",
              "      <td>Infiltration</td>\n",
              "      <td>1</td>\n",
              "      <td>25166</td>\n",
              "      <td>51</td>\n",
              "      <td>M</td>\n",
              "      <td>AP</td>\n",
              "      <td>3056</td>\n",
              "      <td>2544</td>\n",
              "      <td>0.139</td>\n",
              "      <td>0.139</td>\n",
              "      <td>NaN</td>\n",
              "      <td>None</td>\n",
              "    </tr>\n",
              "  </tbody>\n",
              "</table>\n",
              "</div>"
            ],
            "text/plain": [
              "            Image Index Finding Labels  Follow-up #  ...     y]  Unnamed: 11  path\n",
              "44431  00011428_007.png     No Finding            7  ...  0.139          NaN  None\n",
              "98791  00026118_000.png     No Finding            0  ...  0.143          NaN  None\n",
              "95678  00025166_001.png   Infiltration            1  ...  0.139          NaN  None\n",
              "\n",
              "[3 rows x 13 columns]"
            ]
          },
          "metadata": {},
          "execution_count": 55
        }
      ]
    },
    {
      "cell_type": "markdown",
      "source": [
        "# Preprocessing Labels\n",
        "Here we take the labels and make them into a more clear format. The primary step is to see the distribution of findings and then to convert them to simple binary labels"
      ],
      "metadata": {
        "_cell_guid": "0d674a43-170f-4ca6-a9b4-edc64ab89c35",
        "_uuid": "9a1669750b7cffcae1b7a2eb4307b85472dff192",
        "id": "vydJawd3sAg8"
      }
    },
    {
      "cell_type": "code",
      "source": [
        "label_counts = all_xray_df['Finding Labels'].value_counts()[:15]\n",
        "fig, ax1 = plt.subplots(1,1,figsize = (12, 8))\n",
        "ax1.bar(np.arange(len(label_counts))+0.5, label_counts)\n",
        "ax1.set_xticks(np.arange(len(label_counts))+0.5)\n",
        "_ = ax1.set_xticklabels(label_counts.index, rotation = 90)"
      ],
      "metadata": {
        "_cell_guid": "d75ed03e-986d-4f3f-81af-c910d194f390",
        "_uuid": "0c5123f65edf349f8ad2e5c5f55ac484d974f5c7",
        "execution": {
          "iopub.status.busy": "2021-12-13T21:22:07.145151Z",
          "iopub.execute_input": "2021-12-13T21:22:07.145454Z",
          "iopub.status.idle": "2021-12-13T21:22:07.535736Z",
          "shell.execute_reply.started": "2021-12-13T21:22:07.145412Z",
          "shell.execute_reply": "2021-12-13T21:22:07.534412Z"
        },
        "trusted": true,
        "id": "at1H6ukusAg8",
        "colab": {
          "base_uri": "https://localhost:8080/",
          "height": 235
        },
        "outputId": "3ab1a9ee-590a-4720-bebe-4d280b00064b"
      },
      "execution_count": null,
      "outputs": [
        {
          "output_type": "error",
          "ename": "NameError",
          "evalue": "ignored",
          "traceback": [
            "\u001b[0;31m---------------------------------------------------------------------------\u001b[0m",
            "\u001b[0;31mNameError\u001b[0m                                 Traceback (most recent call last)",
            "\u001b[0;32m<ipython-input-1-3e7fd3b437dc>\u001b[0m in \u001b[0;36m<module>\u001b[0;34m()\u001b[0m\n\u001b[0;32m----> 1\u001b[0;31m \u001b[0mlabel_counts\u001b[0m \u001b[0;34m=\u001b[0m \u001b[0mall_xray_df\u001b[0m\u001b[0;34m[\u001b[0m\u001b[0;34m'Finding Labels'\u001b[0m\u001b[0;34m]\u001b[0m\u001b[0;34m.\u001b[0m\u001b[0mvalue_counts\u001b[0m\u001b[0;34m(\u001b[0m\u001b[0;34m)\u001b[0m\u001b[0;34m[\u001b[0m\u001b[0;34m:\u001b[0m\u001b[0;36m15\u001b[0m\u001b[0;34m]\u001b[0m\u001b[0;34m\u001b[0m\u001b[0;34m\u001b[0m\u001b[0m\n\u001b[0m\u001b[1;32m      2\u001b[0m \u001b[0mfig\u001b[0m\u001b[0;34m,\u001b[0m \u001b[0max1\u001b[0m \u001b[0;34m=\u001b[0m \u001b[0mplt\u001b[0m\u001b[0;34m.\u001b[0m\u001b[0msubplots\u001b[0m\u001b[0;34m(\u001b[0m\u001b[0;36m1\u001b[0m\u001b[0;34m,\u001b[0m\u001b[0;36m1\u001b[0m\u001b[0;34m,\u001b[0m\u001b[0mfigsize\u001b[0m \u001b[0;34m=\u001b[0m \u001b[0;34m(\u001b[0m\u001b[0;36m12\u001b[0m\u001b[0;34m,\u001b[0m \u001b[0;36m8\u001b[0m\u001b[0;34m)\u001b[0m\u001b[0;34m)\u001b[0m\u001b[0;34m\u001b[0m\u001b[0;34m\u001b[0m\u001b[0m\n\u001b[1;32m      3\u001b[0m \u001b[0max1\u001b[0m\u001b[0;34m.\u001b[0m\u001b[0mbar\u001b[0m\u001b[0;34m(\u001b[0m\u001b[0mnp\u001b[0m\u001b[0;34m.\u001b[0m\u001b[0marange\u001b[0m\u001b[0;34m(\u001b[0m\u001b[0mlen\u001b[0m\u001b[0;34m(\u001b[0m\u001b[0mlabel_counts\u001b[0m\u001b[0;34m)\u001b[0m\u001b[0;34m)\u001b[0m\u001b[0;34m+\u001b[0m\u001b[0;36m0.5\u001b[0m\u001b[0;34m,\u001b[0m \u001b[0mlabel_counts\u001b[0m\u001b[0;34m)\u001b[0m\u001b[0;34m\u001b[0m\u001b[0;34m\u001b[0m\u001b[0m\n\u001b[1;32m      4\u001b[0m \u001b[0max1\u001b[0m\u001b[0;34m.\u001b[0m\u001b[0mset_xticks\u001b[0m\u001b[0;34m(\u001b[0m\u001b[0mnp\u001b[0m\u001b[0;34m.\u001b[0m\u001b[0marange\u001b[0m\u001b[0;34m(\u001b[0m\u001b[0mlen\u001b[0m\u001b[0;34m(\u001b[0m\u001b[0mlabel_counts\u001b[0m\u001b[0;34m)\u001b[0m\u001b[0;34m)\u001b[0m\u001b[0;34m+\u001b[0m\u001b[0;36m0.5\u001b[0m\u001b[0;34m)\u001b[0m\u001b[0;34m\u001b[0m\u001b[0;34m\u001b[0m\u001b[0m\n\u001b[1;32m      5\u001b[0m \u001b[0m_\u001b[0m \u001b[0;34m=\u001b[0m \u001b[0max1\u001b[0m\u001b[0;34m.\u001b[0m\u001b[0mset_xticklabels\u001b[0m\u001b[0;34m(\u001b[0m\u001b[0mlabel_counts\u001b[0m\u001b[0;34m.\u001b[0m\u001b[0mindex\u001b[0m\u001b[0;34m,\u001b[0m \u001b[0mrotation\u001b[0m \u001b[0;34m=\u001b[0m \u001b[0;36m90\u001b[0m\u001b[0;34m)\u001b[0m\u001b[0;34m\u001b[0m\u001b[0;34m\u001b[0m\u001b[0m\n",
            "\u001b[0;31mNameError\u001b[0m: name 'all_xray_df' is not defined"
          ]
        }
      ]
    },
    {
      "cell_type": "code",
      "source": [
        "all_xray_df['Finding Labels'] = all_xray_df['Finding Labels'].map(lambda x: x.replace('No Finding', ''))\n",
        "from itertools import chain\n",
        "all_labels = np.unique(list(chain(*all_xray_df['Finding Labels'].map(lambda x: x.split('|')).tolist())))\n",
        "all_labels = [x for x in all_labels if len(x)>0]\n",
        "print('All Labels ({}): {}'.format(len(all_labels), all_labels))\n",
        "for c_label in all_labels:\n",
        "    if len(c_label)>1: # leave out empty labels\n",
        "        all_xray_df[c_label] = all_xray_df['Finding Labels'].map(lambda finding: 1.0 if c_label in finding else 0)\n",
        "all_xray_df.sample(3)"
      ],
      "metadata": {
        "_cell_guid": "a9ff3a04-254d-4667-b0a3-869bbd92b08b",
        "_uuid": "78b4425b0a8932bb33864b5a3712611004687a48",
        "execution": {
          "iopub.status.busy": "2021-12-13T21:22:12.892874Z",
          "iopub.execute_input": "2021-12-13T21:22:12.893210Z",
          "iopub.status.idle": "2021-12-13T21:22:14.281860Z",
          "shell.execute_reply.started": "2021-12-13T21:22:12.893142Z",
          "shell.execute_reply": "2021-12-13T21:22:14.281220Z"
        },
        "trusted": true,
        "id": "OEIWEOpssAg9",
        "colab": {
          "base_uri": "https://localhost:8080/",
          "height": 235
        },
        "outputId": "dfbb5f10-5758-49d9-957a-682daef6633f"
      },
      "execution_count": null,
      "outputs": [
        {
          "output_type": "error",
          "ename": "NameError",
          "evalue": "ignored",
          "traceback": [
            "\u001b[0;31m---------------------------------------------------------------------------\u001b[0m",
            "\u001b[0;31mNameError\u001b[0m                                 Traceback (most recent call last)",
            "\u001b[0;32m<ipython-input-2-8568907b4f3a>\u001b[0m in \u001b[0;36m<module>\u001b[0;34m()\u001b[0m\n\u001b[0;32m----> 1\u001b[0;31m \u001b[0mall_xray_df\u001b[0m\u001b[0;34m[\u001b[0m\u001b[0;34m'Finding Labels'\u001b[0m\u001b[0;34m]\u001b[0m \u001b[0;34m=\u001b[0m \u001b[0mall_xray_df\u001b[0m\u001b[0;34m[\u001b[0m\u001b[0;34m'Finding Labels'\u001b[0m\u001b[0;34m]\u001b[0m\u001b[0;34m.\u001b[0m\u001b[0mmap\u001b[0m\u001b[0;34m(\u001b[0m\u001b[0;32mlambda\u001b[0m \u001b[0mx\u001b[0m\u001b[0;34m:\u001b[0m \u001b[0mx\u001b[0m\u001b[0;34m.\u001b[0m\u001b[0mreplace\u001b[0m\u001b[0;34m(\u001b[0m\u001b[0;34m'No Finding'\u001b[0m\u001b[0;34m,\u001b[0m \u001b[0;34m''\u001b[0m\u001b[0;34m)\u001b[0m\u001b[0;34m)\u001b[0m\u001b[0;34m\u001b[0m\u001b[0;34m\u001b[0m\u001b[0m\n\u001b[0m\u001b[1;32m      2\u001b[0m \u001b[0;32mfrom\u001b[0m \u001b[0mitertools\u001b[0m \u001b[0;32mimport\u001b[0m \u001b[0mchain\u001b[0m\u001b[0;34m\u001b[0m\u001b[0;34m\u001b[0m\u001b[0m\n\u001b[1;32m      3\u001b[0m \u001b[0mall_labels\u001b[0m \u001b[0;34m=\u001b[0m \u001b[0mnp\u001b[0m\u001b[0;34m.\u001b[0m\u001b[0munique\u001b[0m\u001b[0;34m(\u001b[0m\u001b[0mlist\u001b[0m\u001b[0;34m(\u001b[0m\u001b[0mchain\u001b[0m\u001b[0;34m(\u001b[0m\u001b[0;34m*\u001b[0m\u001b[0mall_xray_df\u001b[0m\u001b[0;34m[\u001b[0m\u001b[0;34m'Finding Labels'\u001b[0m\u001b[0;34m]\u001b[0m\u001b[0;34m.\u001b[0m\u001b[0mmap\u001b[0m\u001b[0;34m(\u001b[0m\u001b[0;32mlambda\u001b[0m \u001b[0mx\u001b[0m\u001b[0;34m:\u001b[0m \u001b[0mx\u001b[0m\u001b[0;34m.\u001b[0m\u001b[0msplit\u001b[0m\u001b[0;34m(\u001b[0m\u001b[0;34m'|'\u001b[0m\u001b[0;34m)\u001b[0m\u001b[0;34m)\u001b[0m\u001b[0;34m.\u001b[0m\u001b[0mtolist\u001b[0m\u001b[0;34m(\u001b[0m\u001b[0;34m)\u001b[0m\u001b[0;34m)\u001b[0m\u001b[0;34m)\u001b[0m\u001b[0;34m)\u001b[0m\u001b[0;34m\u001b[0m\u001b[0;34m\u001b[0m\u001b[0m\n\u001b[1;32m      4\u001b[0m \u001b[0mall_labels\u001b[0m \u001b[0;34m=\u001b[0m \u001b[0;34m[\u001b[0m\u001b[0mx\u001b[0m \u001b[0;32mfor\u001b[0m \u001b[0mx\u001b[0m \u001b[0;32min\u001b[0m \u001b[0mall_labels\u001b[0m \u001b[0;32mif\u001b[0m \u001b[0mlen\u001b[0m\u001b[0;34m(\u001b[0m\u001b[0mx\u001b[0m\u001b[0;34m)\u001b[0m\u001b[0;34m>\u001b[0m\u001b[0;36m0\u001b[0m\u001b[0;34m]\u001b[0m\u001b[0;34m\u001b[0m\u001b[0;34m\u001b[0m\u001b[0m\n\u001b[1;32m      5\u001b[0m \u001b[0mprint\u001b[0m\u001b[0;34m(\u001b[0m\u001b[0;34m'All Labels ({}): {}'\u001b[0m\u001b[0;34m.\u001b[0m\u001b[0mformat\u001b[0m\u001b[0;34m(\u001b[0m\u001b[0mlen\u001b[0m\u001b[0;34m(\u001b[0m\u001b[0mall_labels\u001b[0m\u001b[0;34m)\u001b[0m\u001b[0;34m,\u001b[0m \u001b[0mall_labels\u001b[0m\u001b[0;34m)\u001b[0m\u001b[0;34m)\u001b[0m\u001b[0;34m\u001b[0m\u001b[0;34m\u001b[0m\u001b[0m\n",
            "\u001b[0;31mNameError\u001b[0m: name 'all_xray_df' is not defined"
          ]
        }
      ]
    },
    {
      "cell_type": "markdown",
      "source": [
        "### Clean categories\n",
        "Since we have too many categories, we can prune a few out by taking the ones with only a few examples"
      ],
      "metadata": {
        "_cell_guid": "05b6c7d9-4869-40b5-a70b-53957c69f021",
        "_uuid": "64653f9f57d3a5b952f1f1a709eb70ca38761a0d",
        "id": "JPtT8d7msAg9"
      }
    },
    {
      "cell_type": "code",
      "source": [
        "# keep at least 1000 cases\n",
        "MIN_CASES = 1000\n",
        "all_labels = [c_label for c_label in all_labels if all_xray_df[c_label].sum()>MIN_CASES]\n",
        "print('Clean Labels ({})'.format(len(all_labels)), \n",
        "      [(c_label,int(all_xray_df[c_label].sum())) for c_label in all_labels])"
      ],
      "metadata": {
        "_cell_guid": "dd273e26-63ab-4d76-925d-9c1c2c1ba69c",
        "_uuid": "9f368f9ea8947d8fc1dacf3988c58b6a2bf5fffc",
        "id": "3rC3kpdWsAg9",
        "colab": {
          "base_uri": "https://localhost:8080/"
        },
        "outputId": "88b521e9-63f6-42c0-8d76-bc04a70aba02"
      },
      "execution_count": null,
      "outputs": [
        {
          "output_type": "stream",
          "name": "stdout",
          "text": [
            "Clean Labels (13) [('Atelectasis', 11559), ('Cardiomegaly', 2776), ('Consolidation', 4667), ('Edema', 2303), ('Effusion', 13317), ('Emphysema', 2516), ('Fibrosis', 1686), ('Infiltration', 19894), ('Mass', 5782), ('Nodule', 6331), ('Pleural_Thickening', 3385), ('Pneumonia', 1431), ('Pneumothorax', 5302)]\n"
          ]
        }
      ]
    },
    {
      "cell_type": "code",
      "source": [
        "# since the dataset is very unbiased, we can resample it to be a more reasonable collection\n",
        "# weight is 0.1 + number of findings\n",
        "sample_weights = all_xray_df['Finding Labels'].map(lambda x: len(x.split('|')) if len(x)>0 else 0).values + 4e-2\n",
        "sample_weights /= sample_weights.sum()\n",
        "all_xray_df = all_xray_df.sample(40000, weights=sample_weights)\n",
        "\n",
        "label_counts = all_xray_df['Finding Labels'].value_counts()[:15]\n",
        "fig, ax1 = plt.subplots(1,1,figsize = (12, 8))\n",
        "ax1.bar(np.arange(len(label_counts))+0.5, label_counts)\n",
        "ax1.set_xticks(np.arange(len(label_counts))+0.5)\n",
        "_ = ax1.set_xticklabels(label_counts.index, rotation = 90)"
      ],
      "metadata": {
        "_cell_guid": "01478f44-5beb-4a6c-aa27-77db4b9abf10",
        "_uuid": "cf071cfa49f2886d9795cdf6067a8afdafd6f458",
        "id": "KrBWmQCZsAg9",
        "colab": {
          "base_uri": "https://localhost:8080/",
          "height": 626
        },
        "outputId": "00c7873f-c270-4c73-c396-63e93c06941f"
      },
      "execution_count": null,
      "outputs": [
        {
          "output_type": "display_data",
          "data": {
            "image/png": "[encoded data removed]",
            "text/plain": [
              "<Figure size 864x576 with 1 Axes>"
            ]
          },
          "metadata": {
            "needs_background": "light"
          }
        }
      ]
    },
    {
      "cell_type": "code",
      "source": [
        "label_counts = 100*np.mean(all_xray_df[all_labels].values,0)\n",
        "fig, ax1 = plt.subplots(1,1,figsize = (12, 8))\n",
        "ax1.bar(np.arange(len(label_counts))+0.5, label_counts)\n",
        "ax1.set_xticks(np.arange(len(label_counts))+0.5)\n",
        "ax1.set_xticklabels(all_labels, rotation = 90)\n",
        "ax1.set_title('Adjusted Frequency of Diseases in Patient Group')\n",
        "_ = ax1.set_ylabel('Frequency (%)')"
      ],
      "metadata": {
        "_cell_guid": "277caf38-f13d-4939-9eef-55efaf73020e",
        "_uuid": "cb9f18a64740580e1c541b8631d45720be5f36fe",
        "id": "Ec2mRXPssAg-",
        "colab": {
          "base_uri": "https://localhost:8080/",
          "height": 583
        },
        "outputId": "1118a0ea-f471-4a77-87e8-36ceb1e75d10"
      },
      "execution_count": null,
      "outputs": [
        {
          "output_type": "display_data",
          "data": {
            "image/png": "[encoded data removed]",
            "text/plain": [
              "<Figure size 864x576 with 1 Axes>"
            ]
          },
          "metadata": {
            "needs_background": "light"
          }
        }
      ]
    },
    {
      "cell_type": "markdown",
      "source": [
        "# Prepare Training Data\n",
        "Here we split the data into training and validation sets and create a single vector (disease_vec) with the 0/1 outputs for the disease status (what the model will try and predict)"
      ],
      "metadata": {
        "_cell_guid": "a1367d63-4c7b-4e47-b19f-9a26d1f89476",
        "_uuid": "6ed6489bbd618fb419ceca2bbd8c300694f1d4ed",
        "id": "daPGOVO0sAg-"
      }
    },
    {
      "cell_type": "code",
      "source": [
        "all_xray_df['disease_vec'] = all_xray_df.apply(lambda x: [x[all_labels].values], 1).map(lambda x: x[0])"
      ],
      "metadata": {
        "_cell_guid": "185ae07c-17a2-46d3-81ca-4007e88cbf86",
        "_uuid": "6f82e5ae33e1c0fcfa33ac51a26885cb5a0e6bb1",
        "collapsed": true,
        "jupyter": {
          "outputs_hidden": true
        },
        "id": "FIQJ_Q7tsAg-"
      },
      "execution_count": null,
      "outputs": []
    },
    {
      "cell_type": "code",
      "source": [
        "from sklearn.model_selection import train_test_split\n",
        "train_df, valid_df = train_test_split(all_xray_df, \n",
        "                                   test_size = 0.25, \n",
        "                                   random_state = 2018,\n",
        "                                   stratify = all_xray_df['Finding Labels'].map(lambda x: x[:4]))\n",
        "print('train', train_df.shape[0], 'validation', valid_df.shape[0])"
      ],
      "metadata": {
        "_cell_guid": "5feddc96-7958-4d34-81f1-10eba94ab1b6",
        "_uuid": "8c7dc722de08243cc763d23928708f9c040bbdc6",
        "id": "pbzksuaVsAg_",
        "colab": {
          "base_uri": "https://localhost:8080/"
        },
        "outputId": "5a413111-c509-4ac0-a8ef-9aac9f462bbd"
      },
      "execution_count": null,
      "outputs": [
        {
          "output_type": "stream",
          "name": "stdout",
          "text": [
            "train 30000 validation 10000\n"
          ]
        }
      ]
    },
    {
      "cell_type": "markdown",
      "source": [
        "# Create Data Generators\n",
        "Here we make the data generators for loading and randomly transforming images"
      ],
      "metadata": {
        "_cell_guid": "7178cb8d-f220-4422-93ae-2469f0c97493",
        "_uuid": "0115346eb989e7eaeffa3643d05c654ec5ceb7c2",
        "id": "UiIyU8gosAg_"
      }
    },
    {
      "cell_type": "code",
      "source": [
        "from keras.preprocessing.image import ImageDataGenerator\n",
        "IMG_SIZE = (128, 128)\n",
        "core_idg = ImageDataGenerator(samplewise_center=True, \n",
        "                              samplewise_std_normalization=True, \n",
        "                              horizontal_flip = True, \n",
        "                              vertical_flip = False, \n",
        "                              height_shift_range= 0.05, \n",
        "                              width_shift_range=0.1, \n",
        "                              rotation_range=5, \n",
        "                              shear_range = 0.1,\n",
        "                              fill_mode = 'reflect',\n",
        "                              zoom_range=0.15)"
      ],
      "metadata": {
        "_cell_guid": "30eaf01b-8ec0-4407-9d25-f87ca1f48e8a",
        "_uuid": "b5e42124376584390e925a06c4cee564285e43b3",
        "id": "5TczJKmZsAg_"
      },
      "execution_count": null,
      "outputs": []
    },
    {
      "cell_type": "code",
      "source": [
        "def flow_from_dataframe(img_data_gen, in_df, path_col, y_col, **dflow_args):\n",
        "    base_dir = os.path.dirname(in_df[path_col].values[0])\n",
        "    print('## Ignore next message from keras, values are replaced anyways')\n",
        "    df_gen = img_data_gen.flow_from_directory(base_dir, \n",
        "                                     class_mode = 'sparse',\n",
        "                                    **dflow_args)\n",
        "    df_gen.filenames = in_df[path_col].values\n",
        "    df_gen.classes = np.stack(in_df[y_col].values)\n",
        "    df_gen.samples = in_df.shape[0]\n",
        "    df_gen.n = in_df.shape[0]\n",
        "    df_gen._set_index_array()\n",
        "    df_gen.directory = '' # since we have the full path\n",
        "    print('Reinserting dataframe: {} images'.format(in_df.shape[0]))\n",
        "    return df_gen"
      ],
      "metadata": {
        "_cell_guid": "b67dc5fa-d91b-420a-aaa7-b3991313127a",
        "_uuid": "dbb93f7f8248031563ec7042d978650c0c957c1f",
        "collapsed": true,
        "jupyter": {
          "outputs_hidden": true
        },
        "id": "0Rf-5g2AsAg_"
      },
      "execution_count": null,
      "outputs": []
    },
    {
      "cell_type": "code",
      "source": [
        "train_gen = flow_from_dataframe(core_idg, train_df, \n",
        "                             path_col = 'path',\n",
        "                            y_col = 'disease_vec', \n",
        "                            target_size = IMG_SIZE,\n",
        "                             color_mode = 'grayscale',\n",
        "                            batch_size = 32)\n",
        "\n",
        "valid_gen = flow_from_dataframe(core_idg, valid_df, \n",
        "                             path_col = 'path',\n",
        "                            y_col = 'disease_vec', \n",
        "                            target_size = IMG_SIZE,\n",
        "                             color_mode = 'grayscale',\n",
        "                            batch_size = 256) # we can use much larger batches for evaluation\n",
        "# used a fixed dataset for evaluating the algorithm\n",
        "test_X, test_Y = next(flow_from_dataframe(core_idg, \n",
        "                               valid_df, \n",
        "                             path_col = 'path',\n",
        "                            y_col = 'disease_vec', \n",
        "                            target_size = IMG_SIZE,\n",
        "                             color_mode = 'grayscale',\n",
        "                            batch_size = 1024)) # one big batch"
      ],
      "metadata": {
        "_cell_guid": "dc4d027c-f5c4-48b8-8ab6-b41971ad514f",
        "_uuid": "cc92b74f28987fee4971e60a71f74660693f4278",
        "id": "oxCnglqosAhA",
        "colab": {
          "base_uri": "https://localhost:8080/",
          "height": 380
        },
        "outputId": "306b53b0-b41c-4c47-873e-913cf3f3e79d"
      },
      "execution_count": null,
      "outputs": [
        {
          "output_type": "error",
          "ename": "TypeError",
          "evalue": "ignored",
          "traceback": [
            "\u001b[0;31m---------------------------------------------------------------------------\u001b[0m",
            "\u001b[0;31mTypeError\u001b[0m                                 Traceback (most recent call last)",
            "\u001b[0;32m<ipython-input-65-4433909ab883>\u001b[0m in \u001b[0;36m<module>\u001b[0;34m()\u001b[0m\n\u001b[1;32m      4\u001b[0m                             \u001b[0mtarget_size\u001b[0m \u001b[0;34m=\u001b[0m \u001b[0mIMG_SIZE\u001b[0m\u001b[0;34m,\u001b[0m\u001b[0;34m\u001b[0m\u001b[0;34m\u001b[0m\u001b[0m\n\u001b[1;32m      5\u001b[0m                              \u001b[0mcolor_mode\u001b[0m \u001b[0;34m=\u001b[0m \u001b[0;34m'grayscale'\u001b[0m\u001b[0;34m,\u001b[0m\u001b[0;34m\u001b[0m\u001b[0;34m\u001b[0m\u001b[0m\n\u001b[0;32m----> 6\u001b[0;31m                             batch_size = 32)\n\u001b[0m\u001b[1;32m      7\u001b[0m \u001b[0;34m\u001b[0m\u001b[0m\n\u001b[1;32m      8\u001b[0m valid_gen = flow_from_dataframe(core_idg, valid_df, \n",
            "\u001b[0;32m<ipython-input-64-614d808eaacc>\u001b[0m in \u001b[0;36mflow_from_dataframe\u001b[0;34m(img_data_gen, in_df, path_col, y_col, **dflow_args)\u001b[0m\n\u001b[1;32m      1\u001b[0m \u001b[0;32mdef\u001b[0m \u001b[0mflow_from_dataframe\u001b[0m\u001b[0;34m(\u001b[0m\u001b[0mimg_data_gen\u001b[0m\u001b[0;34m,\u001b[0m \u001b[0min_df\u001b[0m\u001b[0;34m,\u001b[0m \u001b[0mpath_col\u001b[0m\u001b[0;34m,\u001b[0m \u001b[0my_col\u001b[0m\u001b[0;34m,\u001b[0m \u001b[0;34m**\u001b[0m\u001b[0mdflow_args\u001b[0m\u001b[0;34m)\u001b[0m\u001b[0;34m:\u001b[0m\u001b[0;34m\u001b[0m\u001b[0;34m\u001b[0m\u001b[0m\n\u001b[0;32m----> 2\u001b[0;31m     \u001b[0mbase_dir\u001b[0m \u001b[0;34m=\u001b[0m \u001b[0mos\u001b[0m\u001b[0;34m.\u001b[0m\u001b[0mpath\u001b[0m\u001b[0;34m.\u001b[0m\u001b[0mdirname\u001b[0m\u001b[0;34m(\u001b[0m\u001b[0min_df\u001b[0m\u001b[0;34m[\u001b[0m\u001b[0mpath_col\u001b[0m\u001b[0;34m]\u001b[0m\u001b[0;34m.\u001b[0m\u001b[0mvalues\u001b[0m\u001b[0;34m[\u001b[0m\u001b[0;36m0\u001b[0m\u001b[0;34m]\u001b[0m\u001b[0;34m)\u001b[0m\u001b[0;34m\u001b[0m\u001b[0;34m\u001b[0m\u001b[0m\n\u001b[0m\u001b[1;32m      3\u001b[0m     \u001b[0mprint\u001b[0m\u001b[0;34m(\u001b[0m\u001b[0;34m'## Ignore next message from keras, values are replaced anyways'\u001b[0m\u001b[0;34m)\u001b[0m\u001b[0;34m\u001b[0m\u001b[0;34m\u001b[0m\u001b[0m\n\u001b[1;32m      4\u001b[0m     df_gen = img_data_gen.flow_from_directory(base_dir, \n\u001b[1;32m      5\u001b[0m                                      \u001b[0mclass_mode\u001b[0m \u001b[0;34m=\u001b[0m \u001b[0;34m'sparse'\u001b[0m\u001b[0;34m,\u001b[0m\u001b[0;34m\u001b[0m\u001b[0;34m\u001b[0m\u001b[0m\n",
            "\u001b[0;32m/usr/lib/python3.7/posixpath.py\u001b[0m in \u001b[0;36mdirname\u001b[0;34m(p)\u001b[0m\n\u001b[1;32m    154\u001b[0m \u001b[0;32mdef\u001b[0m \u001b[0mdirname\u001b[0m\u001b[0;34m(\u001b[0m\u001b[0mp\u001b[0m\u001b[0;34m)\u001b[0m\u001b[0;34m:\u001b[0m\u001b[0;34m\u001b[0m\u001b[0;34m\u001b[0m\u001b[0m\n\u001b[1;32m    155\u001b[0m     \u001b[0;34m\"\"\"Returns the directory component of a pathname\"\"\"\u001b[0m\u001b[0;34m\u001b[0m\u001b[0;34m\u001b[0m\u001b[0m\n\u001b[0;32m--> 156\u001b[0;31m     \u001b[0mp\u001b[0m \u001b[0;34m=\u001b[0m \u001b[0mos\u001b[0m\u001b[0;34m.\u001b[0m\u001b[0mfspath\u001b[0m\u001b[0;34m(\u001b[0m\u001b[0mp\u001b[0m\u001b[0;34m)\u001b[0m\u001b[0;34m\u001b[0m\u001b[0;34m\u001b[0m\u001b[0m\n\u001b[0m\u001b[1;32m    157\u001b[0m     \u001b[0msep\u001b[0m \u001b[0;34m=\u001b[0m \u001b[0m_get_sep\u001b[0m\u001b[0;34m(\u001b[0m\u001b[0mp\u001b[0m\u001b[0;34m)\u001b[0m\u001b[0;34m\u001b[0m\u001b[0;34m\u001b[0m\u001b[0m\n\u001b[1;32m    158\u001b[0m     \u001b[0mi\u001b[0m \u001b[0;34m=\u001b[0m \u001b[0mp\u001b[0m\u001b[0;34m.\u001b[0m\u001b[0mrfind\u001b[0m\u001b[0;34m(\u001b[0m\u001b[0msep\u001b[0m\u001b[0;34m)\u001b[0m \u001b[0;34m+\u001b[0m \u001b[0;36m1\u001b[0m\u001b[0;34m\u001b[0m\u001b[0;34m\u001b[0m\u001b[0m\n",
            "\u001b[0;31mTypeError\u001b[0m: expected str, bytes or os.PathLike object, not NoneType"
          ]
        }
      ]
    },
    {
      "cell_type": "code",
      "source": [
        "t_x, t_y = next(train_gen)\n",
        "fig, m_axs = plt.subplots(4, 4, figsize = (16, 16))\n",
        "for (c_x, c_y, c_ax) in zip(t_x, t_y, m_axs.flatten()):\n",
        "    c_ax.imshow(c_x[:,:,0], cmap = 'bone', vmin = -1.5, vmax = 1.5)\n",
        "    c_ax.set_title(', '.join([n_class for n_class, n_score in zip(all_labels, c_y) \n",
        "                             if n_score>0.5]))\n",
        "    c_ax.axis('off')"
      ],
      "metadata": {
        "_cell_guid": "0621048f-3d4c-4eb7-aaee-0c53f7cbf26a",
        "_uuid": "2852ef2fe07eb6d8e2caf056d1428d153afad65f",
        "id": "45cyptEHsAhA"
      },
      "execution_count": null,
      "outputs": []
    },
    {
      "cell_type": "markdown",
      "source": [
        "# Create a simple model\n",
        "Here we make a simple model to train using MobileNet as a base and then adding a GAP layer (Flatten could also be added), dropout, and a fully-connected layer to calculate specific features"
      ],
      "metadata": {
        "_cell_guid": "cce3c89c-4292-4092-9317-ca066d72e354",
        "_uuid": "5b0ec78f2ffa8137dce37744f38a40782aafb54d",
        "id": "z62tDdp7sAhA"
      }
    },
    {
      "cell_type": "code",
      "source": [
        "from keras.applications.mobilenet import MobileNet\n",
        "from keras.layers import GlobalAveragePooling2D, Dense, Dropout, Flatten\n",
        "from keras.models import Sequential\n",
        "base_mobilenet_model = MobileNet(input_shape =  t_x.shape[1:], \n",
        "                                 include_top = False, weights = None)\n",
        "multi_disease_model = Sequential()\n",
        "multi_disease_model.add(base_mobilenet_model)\n",
        "multi_disease_model.add(GlobalAveragePooling2D())\n",
        "multi_disease_model.add(Dropout(0.5))\n",
        "multi_disease_model.add(Dense(512))\n",
        "multi_disease_model.add(Dropout(0.5))\n",
        "multi_disease_model.add(Dense(len(all_labels), activation = 'sigmoid'))\n",
        "multi_disease_model.compile(optimizer = 'adam', loss = 'binary_crossentropy',\n",
        "                           metrics = ['binary_accuracy', 'mae'])\n",
        "multi_disease_model.summary()"
      ],
      "metadata": {
        "_cell_guid": "235846d4-3ef1-4888-a276-6134ad572415",
        "_uuid": "a447f8cc7274c06555849a40881fb903aca7001a",
        "id": "aq97G9ScsAhA"
      },
      "execution_count": null,
      "outputs": []
    },
    {
      "cell_type": "code",
      "source": [
        "from keras.callbacks import ModelCheckpoint, LearningRateScheduler, EarlyStopping, ReduceLROnPlateau\n",
        "weight_path=\"{}_weights.best.hdf5\".format('xray_class')\n",
        "\n",
        "checkpoint = ModelCheckpoint(weight_path, monitor='val_loss', verbose=1, \n",
        "                             save_best_only=True, mode='min', save_weights_only = True)\n",
        "\n",
        "early = EarlyStopping(monitor=\"val_loss\", \n",
        "                      mode=\"min\", \n",
        "                      patience=3)\n",
        "callbacks_list = [checkpoint, early]"
      ],
      "metadata": {
        "_cell_guid": "1acd1753-dae2-440d-a9d5-f3bbebfe446f",
        "_uuid": "90a131f99bea8b77fba54024e261a97e24dfc6c1",
        "collapsed": true,
        "jupyter": {
          "outputs_hidden": true
        },
        "id": "HLIGwh-osAhB"
      },
      "execution_count": null,
      "outputs": []
    },
    {
      "cell_type": "markdown",
      "source": [
        "# First Round\n",
        "Here we do a first round of training to get a few initial low hanging fruit results"
      ],
      "metadata": {
        "_cell_guid": "e5ad629e-15a3-4c96-ac74-db8077b101fe",
        "_uuid": "eba5247e4a767def4b4ead6e2f02f3c334edbbf0",
        "id": "YXqa6tIMsAhB"
      }
    },
    {
      "cell_type": "code",
      "source": [
        "multi_disease_model.fit_generator(train_gen, \n",
        "                                  steps_per_epoch=100,\n",
        "                                  validation_data = (test_X, test_Y), \n",
        "                                  epochs = 1, \n",
        "                                  callbacks = callbacks_list)"
      ],
      "metadata": {
        "_cell_guid": "c269083c-7617-4c16-8f96-353c1f3d8eef",
        "_uuid": "cbdfcf827510dfb3bdba6ab08ff60e21838d6987",
        "id": "X7tQ-cMesAhB"
      },
      "execution_count": null,
      "outputs": []
    },
    {
      "cell_type": "markdown",
      "source": [
        "# Check Output\n",
        "Here we see how many positive examples we have of each category"
      ],
      "metadata": {
        "_cell_guid": "571df602-c0f1-4ba0-9f1e-0c9fdc10eff3",
        "_uuid": "392f3973459dcbb3fc998191baca4d047995d351",
        "id": "Qe7eBsAqsAhB"
      }
    },
    {
      "cell_type": "code",
      "source": [
        "for c_label, s_count in zip(all_labels, 100*np.mean(test_Y,0)):\n",
        "    print('%s: %2.2f%%' % (c_label, s_count))"
      ],
      "metadata": {
        "_cell_guid": "d9f519ef-4b4f-4bd9-8989-643b21cb8904",
        "_uuid": "308a85cd454ad05e451ec1db99432c6fe85e8e41",
        "id": "p32H_-rVsAhB"
      },
      "execution_count": null,
      "outputs": []
    },
    {
      "cell_type": "code",
      "source": [
        "pred_Y = multi_disease_model.predict(test_X, batch_size = 32, verbose = True)"
      ],
      "metadata": {
        "_cell_guid": "73a8dba1-3d8e-47ec-b945-3101ad57dcef",
        "_uuid": "0878962d872569c57b0f959751c522ae928f92e3",
        "id": "kUW1Rq0UsAhC"
      },
      "execution_count": null,
      "outputs": []
    },
    {
      "cell_type": "markdown",
      "source": [
        "# ROC Curves\n",
        "While a very oversimplified metric, we can show the ROC curve for each metric"
      ],
      "metadata": {
        "_cell_guid": "7a0fc649-158c-4844-9b05-f6a62214009f",
        "_uuid": "4acd4919e0ba24e2d06ef75fbb054a907a582c7a",
        "id": "x3c7o235sAhC"
      }
    },
    {
      "cell_type": "code",
      "source": [
        "from sklearn.metrics import roc_curve, auc\n",
        "fig, c_ax = plt.subplots(1,1, figsize = (9, 9))\n",
        "for (idx, c_label) in enumerate(all_labels):\n",
        "    fpr, tpr, thresholds = roc_curve(test_Y[:,idx].astype(int), pred_Y[:,idx])\n",
        "    c_ax.plot(fpr, tpr, label = '%s (AUC:%0.2f)'  % (c_label, auc(fpr, tpr)))\n",
        "c_ax.legend()\n",
        "c_ax.set_xlabel('False Positive Rate')\n",
        "c_ax.set_ylabel('True Positive Rate')\n",
        "fig.savefig('barely_trained_net.png')"
      ],
      "metadata": {
        "_cell_guid": "cc076f02-0bf2-4d3f-a6ab-f192bed9e6a9",
        "_uuid": "d7168d90928d842c295c64e2446e84eb068fd391",
        "id": "veNvEaoxsAhC"
      },
      "execution_count": null,
      "outputs": []
    },
    {
      "cell_type": "markdown",
      "source": [
        "# Continued Training\n",
        "Now we do a much longer training process to see how the results improve"
      ],
      "metadata": {
        "_cell_guid": "6c2fe734-8f87-4537-81e0-d0ce68bc2545",
        "_uuid": "8a03574bc1f2b3441538c2408fc158324d6d23df",
        "id": "ROLidAjGsAhC"
      }
    },
    {
      "cell_type": "code",
      "source": [
        "multi_disease_model.fit_generator(train_gen, \n",
        "                                  steps_per_epoch = 100,\n",
        "                                  validation_data =  (test_X, test_Y), \n",
        "                                  epochs = 5, \n",
        "                                  callbacks = callbacks_list)"
      ],
      "metadata": {
        "_cell_guid": "80b6ede7-052b-4fa2-ab97-bed0199db681",
        "_uuid": "0b35cd7ef77680d2aa180812622d89388b8fff63",
        "collapsed": true,
        "jupyter": {
          "outputs_hidden": true
        },
        "id": "FV4MBfjYsAhC"
      },
      "execution_count": null,
      "outputs": []
    },
    {
      "cell_type": "code",
      "source": [
        "# load the best weights\n",
        "multi_disease_model.load_weights(weight_path)"
      ],
      "metadata": {
        "collapsed": true,
        "jupyter": {
          "outputs_hidden": true
        },
        "id": "NnAsaywSsAhC"
      },
      "execution_count": null,
      "outputs": []
    },
    {
      "cell_type": "code",
      "source": [
        "pred_Y = multi_disease_model.predict(test_X, batch_size = 32, verbose = True)"
      ],
      "metadata": {
        "_cell_guid": "97dd6d26-8d12-4aa5-8544-6bde2f8200a6",
        "_uuid": "2f358c745432e497adfac31c6d97abc8b61bd0eb",
        "collapsed": true,
        "jupyter": {
          "outputs_hidden": true
        },
        "id": "ahcrRTCZsAhC"
      },
      "execution_count": null,
      "outputs": []
    },
    {
      "cell_type": "code",
      "source": [
        "# look at how often the algorithm predicts certain diagnoses \n",
        "for c_label, p_count, t_count in zip(all_labels, \n",
        "                                     100*np.mean(pred_Y,0), \n",
        "                                     100*np.mean(test_Y,0)):\n",
        "    print('%s: Dx: %2.2f%%, PDx: %2.2f%%' % (c_label, t_count, p_count))"
      ],
      "metadata": {
        "_cell_guid": "3e754b40-8492-4f5b-a19f-a0bfd2c9b4f4",
        "_uuid": "db77f749926ac5936e860617b22713715a69157a",
        "id": "n6OMq-NAsAhD"
      },
      "execution_count": null,
      "outputs": []
    },
    {
      "cell_type": "code",
      "source": [
        "from sklearn.metrics import roc_curve, auc\n",
        "fig, c_ax = plt.subplots(1,1, figsize = (9, 9))\n",
        "for (idx, c_label) in enumerate(all_labels):\n",
        "    fpr, tpr, thresholds = roc_curve(test_Y[:,idx].astype(int), pred_Y[:,idx])\n",
        "    c_ax.plot(fpr, tpr, label = '%s (AUC:%0.2f)'  % (c_label, auc(fpr, tpr)))\n",
        "c_ax.legend()\n",
        "c_ax.set_xlabel('False Positive Rate')\n",
        "c_ax.set_ylabel('True Positive Rate')\n",
        "fig.savefig('trained_net.png')"
      ],
      "metadata": {
        "_cell_guid": "31990e46-1437-4945-aaa5-b31b377d6538",
        "_uuid": "a5dd26025391067cd0220b7502b193e5e095edbd",
        "id": "4HD2pLynsAhD"
      },
      "execution_count": null,
      "outputs": []
    },
    {
      "cell_type": "markdown",
      "source": [
        "# Show a few images and associated predictions"
      ],
      "metadata": {
        "_cell_guid": "a50931b1-4d88-4b2f-93f7-ad3c9de31e5c",
        "_uuid": "8ad061d6b08b9ff383f682c35c8b55f30fb560a1",
        "id": "Xmms3yPPsAhD"
      }
    },
    {
      "cell_type": "code",
      "source": [
        "sickest_idx = np.argsort(np.sum(test_Y, 1)<1)\n",
        "fig, m_axs = plt.subplots(4, 2, figsize = (16, 32))\n",
        "for (idx, c_ax) in zip(sickest_idx, m_axs.flatten()):\n",
        "    c_ax.imshow(test_X[idx, :,:,0], cmap = 'bone')\n",
        "    stat_str = [n_class[:6] for n_class, n_score in zip(all_labels, \n",
        "                                                                  test_Y[idx]) \n",
        "                             if n_score>0.5]\n",
        "    pred_str = ['%s:%2.0f%%' % (n_class[:4], p_score*100)  for n_class, n_score, p_score in zip(all_labels, \n",
        "                                                                  test_Y[idx], pred_Y[idx]) \n",
        "                             if (n_score>0.5) or (p_score>0.5)]\n",
        "    c_ax.set_title('Dx: '+', '.join(stat_str)+'\\nPDx: '+', '.join(pred_str))\n",
        "    c_ax.axis('off')\n",
        "fig.savefig('trained_img_predictions.png')"
      ],
      "metadata": {
        "_cell_guid": "714ada59-850d-4d88-b983-2f9107f36e70",
        "_uuid": "e5191706a55a5ab8b68773d0b881aac4b020795a",
        "id": "hCxPpbXDsAhD"
      },
      "execution_count": null,
      "outputs": []
    },
    {
      "cell_type": "code",
      "source": [
        ""
      ],
      "metadata": {
        "_cell_guid": "48aff5bd-c927-44ae-abd3-1de884969d3b",
        "_uuid": "817ed988ed86bc7941065eeac676d1b50cef5d0b",
        "collapsed": true,
        "jupyter": {
          "outputs_hidden": true
        },
        "id": "UFbe1L-EsAhD"
      },
      "execution_count": null,
      "outputs": []
    },
    {
      "cell_type": "code",
      "source": [
        ""
      ],
      "metadata": {
        "_cell_guid": "68354276-ebbb-46ca-acd6-9e8cd1354bba",
        "_uuid": "6c186e1070db679fb62a4a08e4f42a7ece925aff",
        "collapsed": true,
        "jupyter": {
          "outputs_hidden": true
        },
        "id": "b5GMtoS7sAhD"
      },
      "execution_count": null,
      "outputs": []
    }
  ]
}